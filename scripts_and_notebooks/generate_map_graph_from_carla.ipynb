{
 "cells": [
  {
   "cell_type": "code",
   "execution_count": 1,
   "metadata": {},
   "outputs": [],
   "source": [
    "from enum import Enum\n",
    "\n",
    "import carla\n",
    "import networkx as nx\n",
    "import numpy as np\n",
    "import pandas as pd\n",
    "import pickle\n",
    "import scipy.spatial.distance as distance\n",
    "\n",
    "class LaneChange(Enum):\n",
    "    \"\"\"Enumerator to identify lane change availability.\"\"\"\n",
    "    NONE = 0\n",
    "    RIGHT = 1\n",
    "    LEFT = 2\n",
    "    BOTH = 3\n",
    "\n",
    "class LaneType(Enum):\n",
    "    \"\"\"\"\"\"\n",
    "    STRAIGHT = 1\n",
    "    CURVE = 2"
   ]
  },
  {
   "cell_type": "markdown",
   "metadata": {},
   "source": [
    "Majority of code is copied from CARLA examples i.e. `/path/to/carla/PythonAPI/carla/agents/navigation/global_route_planner.py`"
   ]
  },
  {
   "cell_type": "code",
   "execution_count": 2,
   "metadata": {},
   "outputs": [],
   "source": [
    "MAPNAME = \"Town10HD\"\n",
    "GRAPH_RESOLUTION = 2 # in carla-meter\n",
    "\n",
    "client = carla.Client(\"localhost\", 2000)\n",
    "client.set_timeout(10.0)\n",
    "\n",
    "world = client.load_world(MAPNAME)\n",
    "world_map = world.get_map()\n",
    "map_topology = world_map.get_topology()"
   ]
  },
  {
   "cell_type": "code",
   "execution_count": null,
   "metadata": {},
   "outputs": [],
   "source": [
    "## default topology from carla API creates only the minimal number of nodes\n",
    "## piecewise_topology contains fine-grained resolution\n",
    "piecewise_topology = []\n",
    "\n",
    "for segment in map_topology:\n",
    "    wp1, wp2 = segment[0], segment[1]\n",
    "    l1, l2 = wp1.transform.location, wp2.transform.location\n",
    "    \n",
    "    # rounding off to avoid floating point imprecision\n",
    "    x1, y1, z1, x2, y2, z2 = np.round([l1.x, l1.y, l1.z, l2.x, l2.y, l2.z], 0)\n",
    "    wp1.transform.location, wp2.transform.location = l1, l2\n",
    "\n",
    "    \"\"\"\n",
    "        seg_dict = {\n",
    "            \"entry\": carla.Waypoint,\n",
    "            \"exit\": carla.Waypoint,\n",
    "            \"entryxyz\": Tuple[float, float, float],\n",
    "            \"exitxyz\": Tuple[float, float, float],\n",
    "            \"path\": List[carla.Waypoint]\n",
    "        }\n",
    "    \"\"\"\n",
    "    seg_dict = dict()\n",
    "    seg_dict['entry'], seg_dict['exit'] = wp1, wp2\n",
    "    seg_dict['entryxyz'], seg_dict['exitxyz'] = (x1, y1, z1), (x2, y2, z2)\n",
    "    seg_dict['path'] = []\n",
    "    \n",
    "    length = 0\n",
    "    speedlimit = float(\"inf\")\n",
    "    \n",
    "    ## refine the waypoint between entry and exit excluding the entry and exit\n",
    "    endloc = wp2.transform.location\n",
    "    startwp = wp1\n",
    "    \n",
    "    while startwp.transform.location.distance(endloc) > GRAPH_RESOLUTION:\n",
    "        ## if the list of speed limit is not empty, we find the minimum speed limit\n",
    "        ## else set to None\n",
    "        list_speedlimit = startwp.get_landmarks_of_type(GRAPH_RESOLUTION, carla.LandmarkType.RecomendedSpeed)\n",
    "        speedlimit_now = min(list_speedlimit) if list_speedlimit else None\n",
    "\n",
    "        startwp = startwp.next(GRAPH_RESOLUTION)[0]\n",
    "        \n",
    "        startwp_2dloc = (startwp.transform.location.x, startwp.transform.location.y)\n",
    "        seg_dict[\"path\"].append(startwp_2dloc)\n",
    "\n",
    "        ## find the minimum between current wp and previous wp\n",
    "        ## if current wp has no speed limit (None), then the lowest is the previous speed limit\n",
    "        speedlimit = min(speedlimit, speedlimit_now) if speedlimit_now else speedlimit\n",
    "        \n",
    "        length += GRAPH_RESOLUTION\n",
    "    length += startwp.transform.location.distance(endloc)\n",
    "    \n",
    "    ## speed limit will be float(\"inf\") if there are no speed limit along the waypoints\n",
    "    ## set it to none instead of infinity in that case\n",
    "    seg_dict[\"length\"] = length\n",
    "    seg_dict[\"speed_limit\"] = speedlimit if speedlimit != float(\"inf\") else None\n",
    "    \n",
    "    piecewise_topology.append(seg_dict)"
   ]
  },
  {
   "cell_type": "code",
   "execution_count": null,
   "metadata": {},
   "outputs": [],
   "source": [
    "graph = networkx.DiGraph()\n",
    "id_map = dict() ## {(x,y,z): id, ... }\n",
    "\n",
    "for segment in piecewise_topology:\n",
    "    entry_xyz, exit_xyz = segment['entryxyz'], segment['exitxyz']\n",
    "    path = segment['path']\n",
    "    entry_wp, exit_wp = segment['entry'], segment['exit']\n",
    "    \n",
    "    road_id, section_id, lane_id = entry_wp.road_id, entry_wp.section_id, entry_wp.lane_id\n",
    "\n",
    "    for vertex in entry_xyz, exit_xyz:\n",
    "        # Adding unique nodes and populating id_map\n",
    "        if vertex not in id_map:\n",
    "            new_id = len(id_map)\n",
    "            id_map[vertex] = new_id\n",
    "            graph.add_node(new_id, vertex=(int(vertex[0]), int(vertex[1])))\n",
    "\n",
    "    n1 = id_map[entry_xyz]\n",
    "    n2 = id_map[exit_xyz]\n",
    "    \n",
    "    # Adding edge with attributes\n",
    "    entry_2d_loc = (entry_wp.transform.location.x, entry_wp.transform.location.y)\n",
    "    exit_2d_loc = (exit_wp.transform.location.x, exit_wp.transform.location.y)\n",
    "\n",
    "    # If the `entry` allows lane change, then the whole path until next waypoint is allowed to lane change\n",
    "    if entry_wp.lane_change == carla.LaneChange.NONE:\n",
    "        lanechange = LaneChange.NONE\n",
    "    elif entry_wp.lane_change == carla.LaneChange.Both:\n",
    "        lanechange = LaneChange.BOTH\n",
    "    if entry_wp.lane_change == carla.LaneChange.Right:\n",
    "        lanechange = LaneChange.RIGHT\n",
    "    if entry_wp.lane_change == carla.LaneChange.Left:\n",
    "        lanechange = LaneChange.LEFT\n",
    "\n",
    "    graph.add_edge(\n",
    "        n1, n2,\n",
    "        length=segment[\"length\"],\n",
    "        path=path,\n",
    "        entry=entry_2d_loc,\n",
    "        exit=exit_2d_loc,\n",
    "        type=LaneType.CURVE,\n",
    "        lanechange=lanechange,\n",
    "        speed_limit=segment[\"speed_limit\"]\n",
    "    )"
   ]
  },
  {
   "cell_type": "code",
   "execution_count": null,
   "metadata": {},
   "outputs": [],
   "source": [
    "for edge in graph.edges.data():\n",
    "    entry_node_id, exit_node_id, data = edge\n",
    "    entry_loc = graph.nodes[entry_node_id][\"vertex\"]\n",
    "    exit_loc = graph.nodes[exit_node_id][\"vertex\"]\n",
    "    path = [entry_loc] + data[\"path\"] + [exit_loc]\n",
    "    # path = [entry_loc, exit_loc]\n",
    "    color = np.random.randint(0, 256, 3).tolist() + [10]\n",
    "    color = carla.Color(*color)\n",
    "\n",
    "    for start, end in zip(path[:-1], path[1:]):\n",
    "        start = carla.Location(start[0], start[1], 1)\n",
    "        end = carla.Location(end[0], end[1], 1)\n",
    "        world.debug.draw_line(start, end, color=color, thickness=0.02)"
   ]
  },
  {
   "cell_type": "code",
   "execution_count": null,
   "metadata": {},
   "outputs": [],
   "source": [
    "with open(\"%s_graph_map.pickle\" % MAPNAME, \"wb\") as f:\n",
    "    pickle.dump(graph, f)"
   ]
  },
  {
   "cell_type": "markdown",
   "metadata": {},
   "source": [
    "## Check saved graph"
   ]
  },
  {
   "cell_type": "code",
   "execution_count": 3,
   "metadata": {},
   "outputs": [
    {
     "name": "stdout",
     "output_type": "stream",
     "text": [
      "<class 'networkx.classes.digraph.DiGraph'>\n",
      "True\n",
      "(0, 1, {'length': 22.180007934570312, 'path': [(146.990234375, 59.493106842041016), (148.990234375, 59.492862701416016), (150.990234375, 59.492618560791016), (152.990234375, 59.492374420166016), (154.990234375, 59.49213409423828), (156.990234375, 59.49188995361328), (158.990234375, 59.49164581298828), (160.990234375, 59.49140167236328), (162.990234375, 59.49115753173828), (164.990234375, 59.49091339111328), (166.990234375, 59.49066925048828)], 'entry': (144.990234375, 59.493350982666016), 'exit': (167.1702423095703, 59.49064636230469), 'type': <LaneType.CURVE: 2>, 'lanechange': <LaneChange.NONE: 0>, 'speed_limit': None})\n",
      "{'vertex': (145, 59)}\n"
     ]
    }
   ],
   "source": [
    "graph = pd.read_pickle(\"../dataset/Town01_graph_map.pickle\")\n",
    "print(type(graph))\n",
    "print(isinstance(graph, nx.DiGraph))\n",
    "a = next(iter(graph.edges.data()))\n",
    "print(a)\n",
    "print(graph.nodes[0])"
   ]
  },
  {
   "cell_type": "code",
   "execution_count": null,
   "metadata": {},
   "outputs": [],
   "source": []
  },
  {
   "cell_type": "markdown",
   "metadata": {},
   "source": [
    "## Check planned route"
   ]
  },
  {
   "cell_type": "code",
   "execution_count": null,
   "metadata": {},
   "outputs": [],
   "source": [
    "def heuristic(start_idx, goal_idx):\n",
    "    loc1 = np.array(graph.nodes[start_idx][\"vertex\"])\n",
    "    loc2 = np.array(graph.nodes[goal_idx][\"vertex\"])\n",
    "    return np.linalg.norm(loc1 - loc2)"
   ]
  },
  {
   "cell_type": "code",
   "execution_count": null,
   "metadata": {},
   "outputs": [],
   "source": [
    "route = nx.astar_path(graph, 0, 5, heuristic, \"length\")"
   ]
  },
  {
   "cell_type": "code",
   "execution_count": null,
   "metadata": {},
   "outputs": [],
   "source": [
    "edge_data = graph.get_edge_data(0, 1)\n",
    "entry = edge_data[\"entry\"]\n",
    "path = edge_data[\"path\"]"
   ]
  },
  {
   "cell_type": "code",
   "execution_count": null,
   "metadata": {},
   "outputs": [],
   "source": [
    "graph.get_edge_data(1, 0)"
   ]
  },
  {
   "cell_type": "code",
   "execution_count": null,
   "metadata": {},
   "outputs": [],
   "source": [
    "for succ in graph.successors(0):\n",
    "    print(succ)"
   ]
  },
  {
   "cell_type": "code",
   "execution_count": null,
   "metadata": {},
   "outputs": [],
   "source": []
  }
 ],
 "metadata": {
  "interpreter": {
   "hash": "54996ca5dc92d48fa4e577829ecff3d68f795917f41e531a15a62c43bd0afb08"
  },
  "kernelspec": {
   "display_name": "Python 3.8.13 ('carla')",
   "language": "python",
   "name": "python3"
  },
  "language_info": {
   "codemirror_mode": {
    "name": "ipython",
    "version": 3
   },
   "file_extension": ".py",
   "mimetype": "text/x-python",
   "name": "python",
   "nbconvert_exporter": "python",
   "pygments_lexer": "ipython3",
   "version": "3.8.13"
  },
  "orig_nbformat": 4
 },
 "nbformat": 4,
 "nbformat_minor": 2
}
